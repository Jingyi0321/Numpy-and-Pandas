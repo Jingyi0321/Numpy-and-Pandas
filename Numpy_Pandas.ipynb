{
  "nbformat": 4,
  "nbformat_minor": 0,
  "metadata": {
    "colab": {
      "name": "Homework2_Fang_Jingyi.ipynb",
      "provenance": [],
      "collapsed_sections": []
    },
    "kernelspec": {
      "name": "python3",
      "display_name": "Python 3"
    }
  },
  "cells": [
    {
      "cell_type": "markdown",
      "metadata": {
        "id": "bNsIruOzI4iF"
      },
      "source": [
        "## **Homework 2**\n",
        "\n",
        "### Create a copy of the notebook to start answering the questions. Name your notebook in the format HW2_lastname_firstname.ipynb to facilitate the grading process. \n",
        "\n",
        "### Answer all the questions, test your code to ensure there are no errors and the results are as expected. Once you have answered all the questions, save the final copy, then go to File-> click on Download.ipynb. Once the local copy has been downloaded, submit your file on Blackboard under the corresponding assignment section. Also provide us a link to your notebook during submission. \n",
        "\n",
        "### **The due date of this homework is 02/12/2021 (Friday).**\n",
        "\n",
        "### Please ensure you follow all the steps mentioned in the homework.\n",
        "\n",
        "### All the questions have a sample input and output to help you understand the question.\n",
        "\n",
        "### You can submit your solutions any number of times until the deadline.\n"
      ]
    },
    {
      "cell_type": "markdown",
      "metadata": {
        "id": "U3Yz3s2uio1F"
      },
      "source": [
        "**Q1. Lets consider your data is like the below cell:**\n",
        "\n",
        "**Q1-1**: Write a program that create a dataframe from the data.\n",
        "\n",
        "**Q1-2:** Select people that are psychologist or teacher and their number of cars is greater than their family size.\n",
        "\n",
        "**Q1-3:** Select people who have at most 2 family members and at least 1 car.\n",
        "\n",
        "**Q1-4:** Write a code that get number of unique jobs in this dataset.\n",
        "\n",
        "\n",
        "\n"
      ]
    },
    {
      "cell_type": "code",
      "metadata": {
        "id": "yR8lcOtcjxXD"
      },
      "source": [
        "data = {\"name\": [\"Joseph\", \"Jacob\", \"Sam\", \"Jesee\", \"Ryan\", \"Lisa\", \"Lee\"],\n",
        "        \"job\": [\"teacher\", \"psychologist\", \"data scientist\", \"software developer\", \"psychologist\", \"psychologist\", \"teacher\"],\n",
        "        \"family_size\": [3, 2, 1, 4, 2, 3, 2],\n",
        "        \"num_cars\": [3, 1, 1, 2, 2, 4, 1]}"
      ],
      "execution_count": null,
      "outputs": []
    },
    {
      "cell_type": "code",
      "metadata": {
        "id": "Youi5qMaP34p",
        "colab": {
          "base_uri": "https://localhost:8080/"
        },
        "outputId": "5d65a64e-37b1-4dc0-d351-db59eea48ef6"
      },
      "source": [
        "# Type your solution here\n",
        "import pandas as pd\n",
        "import numpy as np\n",
        "df = pd.DataFrame(data, columns = [\"name\",\"job\",\"family_size\",\"num_cars\"])\n",
        "print(df[[np.logical_or (df.job == \"psychologist\" , df.job == \"teacher\" )] and (df.num_cars > df.family_size)]) #use \"and\"\n",
        "print(df[(df.family_size <= 2) & (df.num_cars >= 1)]) #use \"&\"\n",
        "print(df.job.unique())"
      ],
      "execution_count": null,
      "outputs": [
        {
          "output_type": "stream",
          "text": [
            "   name           job  family_size  num_cars\n",
            "5  Lisa  psychologist            3         4\n",
            "    name             job  family_size  num_cars\n",
            "1  Jacob    psychologist            2         1\n",
            "2    Sam  data scientist            1         1\n",
            "4   Ryan    psychologist            2         2\n",
            "6    Lee         teacher            2         1\n",
            "['teacher' 'psychologist' 'data scientist' 'software developer']\n"
          ],
          "name": "stdout"
        }
      ]
    },
    {
      "cell_type": "markdown",
      "metadata": {
        "id": "Ow6nG8k4l91X"
      },
      "source": [
        "**Q2. Lets consider you have two series like the below cell. Compute the mean of weights of each fruit.**"
      ]
    },
    {
      "cell_type": "code",
      "metadata": {
        "id": "u-X_DoOzVLLB"
      },
      "source": [
        "import numpy as np\n",
        "fruit = pd.Series(np.random.choice(['apple', 'banana', 'carrot'], 10))\n",
        "weights = pd.Series(np.linspace(1, 10, 10))"
      ],
      "execution_count": null,
      "outputs": []
    },
    {
      "cell_type": "code",
      "metadata": {
        "id": "S419nzYnpU__",
        "colab": {
          "base_uri": "https://localhost:8080/"
        },
        "outputId": "b6f3af18-a38a-409d-a9af-480eca1e889f"
      },
      "source": [
        "# Type your solution here\n",
        "data = {\"fruit\" : fruit, \"weights\" :weights}\n",
        "df = pd.DataFrame(data, columns = [\"fruit\" , \"weights\"])\n",
        "apple = df[df.fruit == \"apple\"]\n",
        "banana = df[df.fruit == \"banana\"]\n",
        "carrot = df[df.fruit == \"carrot\"]\n",
        "print(\"Apple:\", np.average(apple.weights))\n",
        "print(\"Banana:\", np.average(banana.weights))\n",
        "print(\"Carrot:\", np.average(carrot.weights))"
      ],
      "execution_count": null,
      "outputs": [
        {
          "output_type": "stream",
          "text": [
            "Apple: 5.666666666666667\n",
            "Banana: 5.75\n",
            "Carrot: 5.0\n"
          ],
          "name": "stdout"
        }
      ]
    },
    {
      "cell_type": "markdown",
      "metadata": {
        "id": "g4lKaPIhtVrt"
      },
      "source": [
        "**Q3. Consider the below course_name array:**\n",
        "\n",
        "**Q3-1**: Write a NumPy program to get the indices of the sorted elements of **course_name** array.\n",
        "\n",
        "**Q3-2:** Write numpy code to check whether each element of **course_name** array starts with \"P\".\n"
      ]
    },
    {
      "cell_type": "code",
      "metadata": {
        "id": "RUP_jp2KtVrx"
      },
      "source": [
        "import numpy as np\n",
        "course_name = np.array(['Python', 'JS', 'examples', 'PHP', 'html'])"
      ],
      "execution_count": null,
      "outputs": []
    },
    {
      "cell_type": "code",
      "metadata": {
        "id": "U1i27POxv-o_",
        "colab": {
          "base_uri": "https://localhost:8080/"
        },
        "outputId": "0c4026ae-2e6d-431b-854c-d315b5d10b67"
      },
      "source": [
        "# Type your solution here\n",
        "course_name.sort()\n",
        "Python_index = np.where(course_name == \"Python\")   #np.where returns a array \n",
        "JS_index = np.where(course_name == \"JS\")\n",
        "examples_index = np.where(course_name == \"examples\")\n",
        "PHP_index = np.where(course_name == \"PHP\")\n",
        "html_index =  np.where(course_name == \"html\")\n",
        "print(Python_index[0], JS_index[0], examples_index[0], PHP_index[0], html_index[0])\n",
        "\n",
        "for i in course_name:\n",
        "  for j in i.split():\n",
        "    if j.startswith(\"P\"):\n",
        "      print(\"True\")\n",
        "    else:\n",
        "      print(\"False\")\n",
        "    \n",
        "\n"
      ],
      "execution_count": null,
      "outputs": [
        {
          "output_type": "stream",
          "text": [
            "[2] [0] [3] [1] [4]\n",
            "False\n",
            "True\n",
            "True\n",
            "False\n",
            "False\n"
          ],
          "name": "stdout"
        }
      ]
    },
    {
      "cell_type": "markdown",
      "metadata": {
        "id": "sUFItNFOxwkz"
      },
      "source": [
        "**Q4. Consider the below student_id array:**\n",
        "\n",
        "**Q4-1:** Reverse the **student_id** array. Print both original and reversed array.\n",
        "\n",
        "**Q4-2:** Get the 3-largest values of **student_id** array."
      ]
    },
    {
      "cell_type": "code",
      "metadata": {
        "id": "Rl5qzEjFv0nw"
      },
      "source": [
        "import numpy as np\n",
        "student_id = np.array([1023, 5202, 6230, 1671, 1682, 5241, 4532])"
      ],
      "execution_count": 3,
      "outputs": []
    },
    {
      "cell_type": "code",
      "metadata": {
        "id": "EetvHGrUxMCC",
        "colab": {
          "base_uri": "https://localhost:8080/"
        },
        "outputId": "c02782c6-b540-42b3-d14f-cc07602cb3c0"
      },
      "source": [
        "# Type your solution here\n",
        "student_id_reversed = np.flip(student_id)\n",
        "print(\"Reversed array:\", student_id_reversed)\n",
        "print(\"Original array:\", student_id)\n",
        "\n",
        "student_id.sort()\n",
        "print(student_id[-3:])\n"
      ],
      "execution_count": 5,
      "outputs": [
        {
          "output_type": "stream",
          "text": [
            "Reversed array: [4532 5241 1682 1671 6230 5202 1023]\n",
            "Original array: [1023 5202 6230 1671 1682 5241 4532]\n",
            "[5202 5241 6230]\n"
          ],
          "name": "stdout"
        }
      ]
    },
    {
      "cell_type": "markdown",
      "metadata": {
        "id": "uKRyDVuW6B19"
      },
      "source": [
        "# **Q5: Write a numpy program to print sum of all the multiples of 3 or 5 below 100**"
      ]
    },
    {
      "cell_type": "code",
      "metadata": {
        "id": "ZIixq1gz6OK3",
        "colab": {
          "base_uri": "https://localhost:8080/"
        },
        "outputId": "8e0352f4-c3b1-4e2e-9cc9-2addfd567e58"
      },
      "source": [
        "# Type your solution here\n",
        "\n",
        "# Hint: you can use arange to start off\n",
        "s = np.arange(1,100)\n",
        "print(np.sum(s[np.logical_or(s % 3 == 0, s % 5 == 0)]))"
      ],
      "execution_count": 8,
      "outputs": [
        {
          "output_type": "stream",
          "text": [
            "2318\n"
          ],
          "name": "stdout"
        }
      ]
    },
    {
      "cell_type": "markdown",
      "metadata": {
        "id": "2CWJOsP24c34"
      },
      "source": [
        "**Q6. Consider the below array.**\n",
        "\n",
        "Q6.1. Write a code to swap column 1 with column 2.\n",
        "\n",
        "Q6.2. Write a code to swap row 0 with row 1."
      ]
    },
    {
      "cell_type": "code",
      "metadata": {
        "id": "3OG6X5Eg5KSM",
        "colab": {
          "base_uri": "https://localhost:8080/"
        },
        "outputId": "2a14cd04-d9dd-4b82-90f0-cd035037615a"
      },
      "source": [
        "import numpy as np\n",
        "\n",
        "arr = np.arange(12).reshape(3,4)\n",
        "print(arr)"
      ],
      "execution_count": 13,
      "outputs": [
        {
          "output_type": "stream",
          "text": [
            "[[ 0  1  2  3]\n",
            " [ 4  5  6  7]\n",
            " [ 8  9 10 11]]\n"
          ],
          "name": "stdout"
        }
      ]
    },
    {
      "cell_type": "code",
      "metadata": {
        "id": "Q-Q91DpO5YYW",
        "colab": {
          "base_uri": "https://localhost:8080/"
        },
        "outputId": "ab43a8af-a703-4e88-f91b-254c42c94e8e"
      },
      "source": [
        "# Type your solution here\n",
        "c0 = arr[:,0]\n",
        "c3 = arr[:,3]\n",
        "temp = []\n",
        "c1 = arr[:,1]\n",
        "c2 = arr[:,2]\n",
        "temp = c1\n",
        "c1 = c2\n",
        "c2 = temp\n",
        "swap = np.array([c0,c1,c2,c3]).transpose()\n",
        "print(swap)\n",
        "\n",
        "r2 = arr[2,:]\n",
        "temp2 = []\n",
        "r0 = arr[0,:]\n",
        "r1 = arr[1,:]\n",
        "temp2 = r0\n",
        "r0 = r1\n",
        "r1 = temp2\n",
        "swap2 = np.array([r0,r1,r2])\n",
        "print(swap2)\n"
      ],
      "execution_count": 30,
      "outputs": [
        {
          "output_type": "stream",
          "text": [
            "[[ 0  2  1  3]\n",
            " [ 4  6  5  7]\n",
            " [ 8 10  9 11]]\n",
            "[[ 4  5  6  7]\n",
            " [ 0  1  2  3]\n",
            " [ 8  9 10 11]]\n"
          ],
          "name": "stdout"
        }
      ]
    }
  ]
}